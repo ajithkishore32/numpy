{
 "cells": [
  {
   "cell_type": "markdown",
   "id": "f44b1c42-12d9-4a05-831a-464a94927910",
   "metadata": {},
   "source": [
    "## MLA\n",
    "- Numpy\n",
    "- Pandas\n",
    "- Seaborn/Matplotlib\n",
    "- Linear Regression\n",
    "- Logistic Regression"
   ]
  },
  {
   "cell_type": "markdown",
   "id": "2bc87c8e-daca-4283-987b-9924152b0714",
   "metadata": {},
   "source": [
    "## Numpy"
   ]
  },
  {
   "cell_type": "markdown",
   "id": "bf743d0a-b1c2-4955-9cde-26fd4deaa632",
   "metadata": {},
   "source": [
    "- Numpy stands for numerical python\n",
    "- Building block for many other libraries like Pandas, Matplotlib etc"
   ]
  },
  {
   "cell_type": "code",
   "execution_count": 1,
   "id": "41c96b1e-a233-4551-8a9e-dc9998238fdd",
   "metadata": {},
   "outputs": [],
   "source": [
    "#Import library\n",
    "import numpy as np"
   ]
  },
  {
   "cell_type": "code",
   "execution_count": null,
   "id": "14713dd3-35c7-41af-b1f2-9ecb413a83ab",
   "metadata": {},
   "outputs": [],
   "source": [
    "#!pip install numpy"
   ]
  },
  {
   "cell_type": "markdown",
   "id": "f12f2884-31be-4b52-8b08-9776b21f22d4",
   "metadata": {},
   "source": [
    "## Data types available in numpy - Array\n",
    "- Scalars\n",
    "- Vectors or 1-d arrays\n",
    "- Matrices or 2-d arrays\n",
    "- Higher dimensional arrays"
   ]
  },
  {
   "cell_type": "code",
   "execution_count": 3,
   "id": "f80bdd5b-a20a-4053-8653-1e9ece6a3f60",
   "metadata": {},
   "outputs": [],
   "source": [
    "#Scalar - That doesn't have direction and has only magnitude\n",
    "# np.array is the function used to create a numpy array\n",
    "arr1 = np.array(10)"
   ]
  },
  {
   "cell_type": "code",
   "execution_count": 5,
   "id": "7ca8a03e-667f-48c3-a853-50751ffac668",
   "metadata": {},
   "outputs": [
    {
     "data": {
      "text/plain": [
       "array(10)"
      ]
     },
     "execution_count": 5,
     "metadata": {},
     "output_type": "execute_result"
    }
   ],
   "source": [
    "arr1"
   ]
  },
  {
   "cell_type": "code",
   "execution_count": 7,
   "id": "4f35589a-7c05-4161-b6f9-21d0d1497fb6",
   "metadata": {},
   "outputs": [
    {
     "data": {
      "text/plain": [
       "numpy.ndarray"
      ]
     },
     "execution_count": 7,
     "metadata": {},
     "output_type": "execute_result"
    }
   ],
   "source": [
    "type(arr1)  #datatype of the variable as a whole"
   ]
  },
  {
   "cell_type": "code",
   "execution_count": null,
   "id": "266c9d5f-a9ea-4da3-b0c3-a40eba0c5cc3",
   "metadata": {},
   "outputs": [],
   "source": [
    "# Attributes of a numpy array\n",
    "#dtype  - datatype of elements in it.\n",
    "#ndim - Dimension of the array\n",
    "#size - No. of the elements in the array\n",
    "#shape - how many elements in each dimension"
   ]
  },
  {
   "cell_type": "code",
   "execution_count": 9,
   "id": "953308a8-1032-4b69-89ad-985fedc939d1",
   "metadata": {},
   "outputs": [],
   "source": [
    "#Creating a 1-d array using a list\n",
    "arr2 = np.array([1,2,3,4])"
   ]
  },
  {
   "cell_type": "code",
   "execution_count": 11,
   "id": "50547003-7b58-42e6-b894-3b2a8f8395f3",
   "metadata": {},
   "outputs": [
    {
     "data": {
      "text/plain": [
       "array([1, 2, 3, 4])"
      ]
     },
     "execution_count": 11,
     "metadata": {},
     "output_type": "execute_result"
    }
   ],
   "source": [
    "arr2"
   ]
  },
  {
   "cell_type": "code",
   "execution_count": 13,
   "id": "92dc2499-9c4c-406e-8df5-6d26c7af16ff",
   "metadata": {},
   "outputs": [],
   "source": [
    "# Creating a 1-d array using a tuple\n",
    "arr2 = np.array((2,2,3,4))"
   ]
  },
  {
   "cell_type": "code",
   "execution_count": 15,
   "id": "bede92f8-02ae-4ac3-8ae2-14c3ce5bbcf1",
   "metadata": {},
   "outputs": [
    {
     "data": {
      "text/plain": [
       "array([2, 2, 3, 4])"
      ]
     },
     "execution_count": 15,
     "metadata": {},
     "output_type": "execute_result"
    }
   ],
   "source": [
    "arr2"
   ]
  },
  {
   "cell_type": "code",
   "execution_count": 17,
   "id": "51d216dc-924a-40c9-a6da-b9f249051f10",
   "metadata": {},
   "outputs": [],
   "source": [
    "#Creating a 2-d array - Matrix\n",
    "arr3 = np.array([[1,2,3,4],[2,3,4,5]])"
   ]
  },
  {
   "cell_type": "code",
   "execution_count": 19,
   "id": "b8e23e62-49be-413f-8fdb-c89263cfac2b",
   "metadata": {},
   "outputs": [
    {
     "data": {
      "text/plain": [
       "array([[1, 2, 3, 4],\n",
       "       [2, 3, 4, 5]])"
      ]
     },
     "execution_count": 19,
     "metadata": {},
     "output_type": "execute_result"
    }
   ],
   "source": [
    "arr3"
   ]
  },
  {
   "cell_type": "code",
   "execution_count": 22,
   "id": "10de2f3c-b4f1-4929-bd64-590857c6cfe4",
   "metadata": {},
   "outputs": [
    {
     "data": {
      "text/plain": [
       "dtype('int32')"
      ]
     },
     "execution_count": 22,
     "metadata": {},
     "output_type": "execute_result"
    }
   ],
   "source": [
    "#arr1 is a scalar. arr1 = 10\n",
    "arr1.dtype  #datatype of elements inside the array"
   ]
  },
  {
   "cell_type": "code",
   "execution_count": 24,
   "id": "3afd3458-cfec-48bb-be16-70354650b0ae",
   "metadata": {},
   "outputs": [
    {
     "data": {
      "text/plain": [
       "0"
      ]
     },
     "execution_count": 24,
     "metadata": {},
     "output_type": "execute_result"
    }
   ],
   "source": [
    "arr1.ndim #no. of the dimensions present in the array"
   ]
  },
  {
   "cell_type": "code",
   "execution_count": 26,
   "id": "c1043d26-f57a-408b-9d8b-3594591d1a39",
   "metadata": {},
   "outputs": [
    {
     "data": {
      "text/plain": [
       "()"
      ]
     },
     "execution_count": 26,
     "metadata": {},
     "output_type": "execute_result"
    }
   ],
   "source": [
    "arr1.shape #Gives how the elements are layered in each dimension"
   ]
  },
  {
   "cell_type": "code",
   "execution_count": 28,
   "id": "9ac689a3-7daa-437c-ac00-e3edce3fbad2",
   "metadata": {},
   "outputs": [
    {
     "data": {
      "text/plain": [
       "1"
      ]
     },
     "execution_count": 28,
     "metadata": {},
     "output_type": "execute_result"
    }
   ],
   "source": [
    "arr1.size #total number of elements in the array"
   ]
  },
  {
   "cell_type": "code",
   "execution_count": 30,
   "id": "150aa78b-0680-49e7-91df-604e83909a2f",
   "metadata": {},
   "outputs": [
    {
     "name": "stdout",
     "output_type": "stream",
     "text": [
      "[2 2 3 4] <class 'numpy.ndarray'>\n"
     ]
    }
   ],
   "source": [
    "print(arr2,type(arr2))"
   ]
  },
  {
   "cell_type": "code",
   "execution_count": 32,
   "id": "4e61f70e-4f5b-4c59-ae49-d3a6b9ef12c8",
   "metadata": {},
   "outputs": [
    {
     "name": "stdout",
     "output_type": "stream",
     "text": [
      "datatypes of elements: int32 dimension: 1 shape: (4,) size: 4\n"
     ]
    }
   ],
   "source": [
    "print('datatypes of elements:', arr2.dtype, 'dimension:', arr2.ndim, 'shape:', arr2.shape,'size:' ,arr2.size)"
   ]
  },
  {
   "cell_type": "code",
   "execution_count": 34,
   "id": "6f58ae22-ed2b-4bf4-a28a-041b57902ef6",
   "metadata": {},
   "outputs": [
    {
     "name": "stdout",
     "output_type": "stream",
     "text": [
      "[[1 2 3 4]\n",
      " [2 3 4 5]] <class 'numpy.ndarray'>\n"
     ]
    }
   ],
   "source": [
    "print(arr3,type(arr3))"
   ]
  },
  {
   "cell_type": "code",
   "execution_count": 36,
   "id": "8ec23310-4a12-40f4-890b-7c0fa90f7f60",
   "metadata": {},
   "outputs": [
    {
     "name": "stdout",
     "output_type": "stream",
     "text": [
      "datatypes of elements: int32 dimension: 2 shape: (2, 4) size: 8\n"
     ]
    }
   ],
   "source": [
    "print('datatypes of elements:', arr3.dtype, 'dimension:', arr3.ndim, 'shape:', arr3.shape,'size:' ,arr3.size)"
   ]
  },
  {
   "cell_type": "code",
   "execution_count": null,
   "id": "a16b67ac-6c54-43d9-9a14-6322177851e9",
   "metadata": {},
   "outputs": [],
   "source": [
    "# A 2-d array is called a matrix"
   ]
  },
  {
   "cell_type": "code",
   "execution_count": 38,
   "id": "dd2d7419-eb3d-476d-bb1b-c4d9f6034b72",
   "metadata": {},
   "outputs": [],
   "source": [
    "arr = np.array([[[[[[1,2]]]]]])"
   ]
  },
  {
   "cell_type": "code",
   "execution_count": 40,
   "id": "366e2c29-52f4-4475-8d32-f8126c29789e",
   "metadata": {},
   "outputs": [
    {
     "name": "stdout",
     "output_type": "stream",
     "text": [
      "[[[[[[1 2]]]]]] <class 'numpy.ndarray'> datatypes of elements: int32 dimension: 6 shape: (1, 1, 1, 1, 1, 2) size: 2\n"
     ]
    }
   ],
   "source": [
    "print(arr,type(arr),'datatypes of elements:', arr.dtype, 'dimension:', arr.ndim, 'shape:', arr.shape,'size:' ,arr.size)"
   ]
  },
  {
   "cell_type": "code",
   "execution_count": 42,
   "id": "56a13d7b-1db0-455f-b8e0-164c2a078cda",
   "metadata": {},
   "outputs": [
    {
     "data": {
      "text/plain": [
       "array([[[1, 2, 3, 4],\n",
       "        [2, 3, 4, 5],\n",
       "        [1, 2, 3, 4]],\n",
       "\n",
       "       [[4, 5, 6, 7],\n",
       "        [8, 9, 7, 6],\n",
       "        [5, 4, 3, 2]]])"
      ]
     },
     "execution_count": 42,
     "metadata": {},
     "output_type": "execute_result"
    }
   ],
   "source": [
    "arr = np.array([[[1,2,3,4],[2,3,4,5],[1,2,3,4]],[[4,5,6,7],[8,9,7,6],[5,4,3,2]]])\n",
    "arr"
   ]
  },
  {
   "cell_type": "code",
   "execution_count": 44,
   "id": "5dc32b9e-6bdf-4f3d-b3be-56f14f150798",
   "metadata": {},
   "outputs": [
    {
     "name": "stdout",
     "output_type": "stream",
     "text": [
      "[[[1 2 3 4]\n",
      "  [2 3 4 5]\n",
      "  [1 2 3 4]]\n",
      "\n",
      " [[4 5 6 7]\n",
      "  [8 9 7 6]\n",
      "  [5 4 3 2]]] <class 'numpy.ndarray'> datatypes of elements: int32 dimension: 3 shape: (2, 3, 4) size: 24\n"
     ]
    }
   ],
   "source": [
    "print(arr,type(arr),'datatypes of elements:', arr.dtype, 'dimension:', arr.ndim, 'shape:', arr.shape,'size:' ,arr.size)"
   ]
  },
  {
   "cell_type": "code",
   "execution_count": 46,
   "id": "d9be3585-c0fd-4b89-a64d-450b995de5e5",
   "metadata": {},
   "outputs": [],
   "source": [
    "arr = np.array([[[1,2],[2,3]],[[4,5],[6,7]]])"
   ]
  },
  {
   "cell_type": "code",
   "execution_count": 48,
   "id": "d73ea8fc-c573-4477-8cee-4f5bc5e85baa",
   "metadata": {},
   "outputs": [
    {
     "name": "stdout",
     "output_type": "stream",
     "text": [
      "[[[1 2]\n",
      "  [2 3]]\n",
      "\n",
      " [[4 5]\n",
      "  [6 7]]] <class 'numpy.ndarray'> datatypes of elements: int32 dimension: 3 shape: (2, 2, 2) size: 8\n"
     ]
    }
   ],
   "source": [
    "print(arr,type(arr),'datatypes of elements:', arr.dtype, 'dimension:', arr.ndim, 'shape:', arr.shape,'size:' ,arr.size)"
   ]
  },
  {
   "cell_type": "code",
   "execution_count": 50,
   "id": "ca4944cb-b3ab-40ca-b207-241053337a61",
   "metadata": {},
   "outputs": [],
   "source": [
    "arr = np.array({1,2})"
   ]
  },
  {
   "cell_type": "code",
   "execution_count": 52,
   "id": "8fb655b7-2a30-4f1f-bdba-1bb47d880942",
   "metadata": {},
   "outputs": [
    {
     "data": {
      "text/plain": [
       "array({1, 2}, dtype=object)"
      ]
     },
     "execution_count": 52,
     "metadata": {},
     "output_type": "execute_result"
    }
   ],
   "source": [
    "arr"
   ]
  },
  {
   "cell_type": "code",
   "execution_count": 54,
   "id": "19fb7d66-163f-47c2-b55a-15f84a3876ba",
   "metadata": {},
   "outputs": [],
   "source": [
    "arr = np.array((1,2))"
   ]
  },
  {
   "cell_type": "code",
   "execution_count": 56,
   "id": "3115f6bf-54e7-4978-a992-bc5545df115e",
   "metadata": {},
   "outputs": [
    {
     "data": {
      "text/plain": [
       "array([1, 2])"
      ]
     },
     "execution_count": 56,
     "metadata": {},
     "output_type": "execute_result"
    }
   ],
   "source": [
    "arr"
   ]
  },
  {
   "cell_type": "markdown",
   "id": "9ba375bb-8975-4210-a07c-d20a8de12286",
   "metadata": {},
   "source": [
    "### Reshape function: Lets you change the shape of array"
   ]
  },
  {
   "cell_type": "code",
   "execution_count": 21,
   "id": "6e3ddc74-65d5-4af4-914c-926115da84fb",
   "metadata": {},
   "outputs": [],
   "source": [
    "arr = np.array([1,2,3])"
   ]
  },
  {
   "cell_type": "code",
   "execution_count": 23,
   "id": "ff1593ad-9986-4900-850a-10db52f2c955",
   "metadata": {},
   "outputs": [
    {
     "name": "stdout",
     "output_type": "stream",
     "text": [
      "[1 2 3] dimension: 1 shape: (3,) size: 3\n"
     ]
    }
   ],
   "source": [
    "print(arr,'dimension:', arr.ndim, 'shape:', arr.shape,'size:' ,arr.size)"
   ]
  },
  {
   "cell_type": "code",
   "execution_count": 62,
   "id": "1c9da1c4-2c79-4925-ba14-91a9ec793fb4",
   "metadata": {},
   "outputs": [
    {
     "data": {
      "text/plain": [
       "array([[[[[[[1]]],\n",
       "\n",
       "\n",
       "          [[[2]]],\n",
       "\n",
       "\n",
       "          [[[3]]]]]]])"
      ]
     },
     "execution_count": 62,
     "metadata": {},
     "output_type": "execute_result"
    }
   ],
   "source": [
    "arr.reshape((1,1,1,3,1,1,1))"
   ]
  },
  {
   "cell_type": "code",
   "execution_count": 25,
   "id": "d222b854-32aa-4339-b0d6-bb16a3cd6247",
   "metadata": {},
   "outputs": [
    {
     "data": {
      "text/plain": [
       "array([[1, 2, 3]])"
      ]
     },
     "execution_count": 25,
     "metadata": {},
     "output_type": "execute_result"
    }
   ],
   "source": [
    "arr.reshape((1,3))"
   ]
  },
  {
   "cell_type": "code",
   "execution_count": 27,
   "id": "efc99591-c1d6-421b-a7bf-0ff5475abdee",
   "metadata": {},
   "outputs": [
    {
     "data": {
      "text/plain": [
       "array([[1],\n",
       "       [2],\n",
       "       [3]])"
      ]
     },
     "execution_count": 27,
     "metadata": {},
     "output_type": "execute_result"
    }
   ],
   "source": [
    "arr.reshape((3,1))"
   ]
  },
  {
   "cell_type": "code",
   "execution_count": 64,
   "id": "be186b21-f381-43c3-a4a3-003cd63afc27",
   "metadata": {},
   "outputs": [
    {
     "data": {
      "text/plain": [
       "array([1, 2, 3])"
      ]
     },
     "execution_count": 64,
     "metadata": {},
     "output_type": "execute_result"
    }
   ],
   "source": [
    "arr"
   ]
  },
  {
   "cell_type": "code",
   "execution_count": 66,
   "id": "d7f06be8-a9c1-4d46-9c34-9706d8f32f1b",
   "metadata": {},
   "outputs": [
    {
     "name": "stdout",
     "output_type": "stream",
     "text": [
      "[1 2 3 4] dimension: 1 shape: (4,) size: 4\n"
     ]
    }
   ],
   "source": [
    "arr = np.array([1,2,3,4])\n",
    "print(arr,'dimension:', arr.ndim, 'shape:', arr.shape,'size:' ,arr.size)"
   ]
  },
  {
   "cell_type": "code",
   "execution_count": 68,
   "id": "5c2d1a2e-7f08-4082-9bee-546c455e06d5",
   "metadata": {},
   "outputs": [],
   "source": [
    "arr1 = arr.reshape((2,2))"
   ]
  },
  {
   "cell_type": "code",
   "execution_count": 70,
   "id": "eb874387-f5ec-44a4-a86b-ddee09847d2c",
   "metadata": {},
   "outputs": [
    {
     "name": "stdout",
     "output_type": "stream",
     "text": [
      "[[1 2]\n",
      " [3 4]] dimension: 2 shape: (2, 2) size: 4\n"
     ]
    }
   ],
   "source": [
    "print(arr1,'dimension:', arr1.ndim, 'shape:', arr1.shape,'size:' ,arr1.size)"
   ]
  },
  {
   "cell_type": "code",
   "execution_count": 72,
   "id": "160063f7-13aa-4261-b8fc-f0a492447c03",
   "metadata": {},
   "outputs": [],
   "source": [
    "arr = np.array([1,2,3,4])"
   ]
  },
  {
   "cell_type": "code",
   "execution_count": 74,
   "id": "173f0d05-5733-455e-9ebe-7d22bf4aebc2",
   "metadata": {},
   "outputs": [
    {
     "name": "stdout",
     "output_type": "stream",
     "text": [
      "[[[[1]\n",
      "   [2]]\n",
      "\n",
      "  [[3]\n",
      "   [4]]]] dimension: 4 shape: (1, 2, 2, 1) size: 4\n"
     ]
    }
   ],
   "source": [
    "arr2 = arr.reshape((1,2,2,1))\n",
    "print(arr2,'dimension:', arr2.ndim, 'shape:', arr2.shape,'size:' ,arr2.size)"
   ]
  },
  {
   "cell_type": "markdown",
   "id": "8983155c-285a-4a1c-8858-f7c7fa3626f4",
   "metadata": {},
   "source": [
    "### Built in arrays:\n",
    "- arange - a 1-d array with uniformly spaced numbers between a start and stop value. Integers\n",
    "  - np.arange(start,stop,step)\n",
    "  - Can be used in combination with a reshape function to create an array of any dimension. \n",
    "- zeros, ones - zero  matrix and ones matrix\n",
    "  - np.zeros(shape tuple,dtype)\n",
    "  - np.ones(shape tuple,dtype)\n",
    "- linspace - Generate a count of samples between start and stop values\n",
    "  - np.linspace(start,stop,count)\n",
    "  - Stop is inclusive\n",
    "- eye - Create an identity matrix\n",
    "  - (defaults square matrix, can be made as rectangular matrix)"
   ]
  },
  {
   "cell_type": "code",
   "execution_count": 76,
   "id": "18cb959a-1083-49b6-abc4-7a209bba40c7",
   "metadata": {},
   "outputs": [
    {
     "data": {
      "text/plain": [
       "array([ 0,  1,  2,  3,  4,  5,  6,  7,  8,  9, 10, 11, 12, 13, 14])"
      ]
     },
     "execution_count": 76,
     "metadata": {},
     "output_type": "execute_result"
    }
   ],
   "source": [
    "# np.arange(start,stop,step)  : Start - defaults to 0, step value defaults to 1, stop is exclusive\n",
    "arr = np.arange(15)\n",
    "arr"
   ]
  },
  {
   "cell_type": "code",
   "execution_count": 78,
   "id": "1afa8904-62b6-4656-be39-c64e2e2f3d1f",
   "metadata": {},
   "outputs": [
    {
     "data": {
      "text/plain": [
       "array([ 2,  7, 12])"
      ]
     },
     "execution_count": 78,
     "metadata": {},
     "output_type": "execute_result"
    }
   ],
   "source": [
    "arr = np.arange(2,15,5)\n",
    "arr"
   ]
  },
  {
   "cell_type": "code",
   "execution_count": 80,
   "id": "4e8544ce-c3b3-411f-a00f-c2259c1d1548",
   "metadata": {},
   "outputs": [
    {
     "data": {
      "text/plain": [
       "array([], dtype=int32)"
      ]
     },
     "execution_count": 80,
     "metadata": {},
     "output_type": "execute_result"
    }
   ],
   "source": [
    "arr = np.arange(-1,6,-1)\n",
    "arr"
   ]
  },
  {
   "cell_type": "code",
   "execution_count": 82,
   "id": "2304f363-69fc-4dc3-8eb4-3a38a9400fcc",
   "metadata": {},
   "outputs": [
    {
     "data": {
      "text/plain": [
       "array([-1, -2, -3, -4, -5])"
      ]
     },
     "execution_count": 82,
     "metadata": {},
     "output_type": "execute_result"
    }
   ],
   "source": [
    "arr = np.arange(-1,-6,-1)\n",
    "arr"
   ]
  },
  {
   "cell_type": "code",
   "execution_count": 88,
   "id": "fff99dd9-4b1e-48c7-ba86-2db7ecc88642",
   "metadata": {},
   "outputs": [
    {
     "data": {
      "text/plain": [
       "array([[ 2,  5],\n",
       "       [ 8, 11],\n",
       "       [14, 17]])"
      ]
     },
     "execution_count": 88,
     "metadata": {},
     "output_type": "execute_result"
    }
   ],
   "source": [
    "arr = np.arange(2,20,3).reshape((3,2))\n",
    "arr"
   ]
  },
  {
   "cell_type": "code",
   "execution_count": 90,
   "id": "39411ce5-4a30-4241-8b84-c834e9e8a174",
   "metadata": {},
   "outputs": [
    {
     "data": {
      "text/plain": [
       "array([1.4, 1.9, 2.4, 2.9, 3.4])"
      ]
     },
     "execution_count": 90,
     "metadata": {},
     "output_type": "execute_result"
    }
   ],
   "source": [
    "arr = np.arange(1.4,3.7,0.5)\n",
    "arr"
   ]
  },
  {
   "cell_type": "code",
   "execution_count": 92,
   "id": "5f3c1915-3377-4540-8688-ddb72ba46e13",
   "metadata": {},
   "outputs": [
    {
     "data": {
      "text/plain": [
       "array([[0, 0],\n",
       "       [0, 0],\n",
       "       [0, 0]])"
      ]
     },
     "execution_count": 92,
     "metadata": {},
     "output_type": "execute_result"
    }
   ],
   "source": [
    "#arr = np.zeros(shape, datatype)\n",
    "arr = np.zeros((3,2),dtype=int)\n",
    "arr"
   ]
  },
  {
   "cell_type": "code",
   "execution_count": 94,
   "id": "3f8d05ec-7c63-44d4-b855-5b2b86c40b5a",
   "metadata": {},
   "outputs": [
    {
     "data": {
      "text/plain": [
       "array([[[0., 0., 0., 0., 0., 0.],\n",
       "        [0., 0., 0., 0., 0., 0.],\n",
       "        [0., 0., 0., 0., 0., 0.],\n",
       "        [0., 0., 0., 0., 0., 0.],\n",
       "        [0., 0., 0., 0., 0., 0.]],\n",
       "\n",
       "       [[0., 0., 0., 0., 0., 0.],\n",
       "        [0., 0., 0., 0., 0., 0.],\n",
       "        [0., 0., 0., 0., 0., 0.],\n",
       "        [0., 0., 0., 0., 0., 0.],\n",
       "        [0., 0., 0., 0., 0., 0.]],\n",
       "\n",
       "       [[0., 0., 0., 0., 0., 0.],\n",
       "        [0., 0., 0., 0., 0., 0.],\n",
       "        [0., 0., 0., 0., 0., 0.],\n",
       "        [0., 0., 0., 0., 0., 0.],\n",
       "        [0., 0., 0., 0., 0., 0.]],\n",
       "\n",
       "       [[0., 0., 0., 0., 0., 0.],\n",
       "        [0., 0., 0., 0., 0., 0.],\n",
       "        [0., 0., 0., 0., 0., 0.],\n",
       "        [0., 0., 0., 0., 0., 0.],\n",
       "        [0., 0., 0., 0., 0., 0.]]])"
      ]
     },
     "execution_count": 94,
     "metadata": {},
     "output_type": "execute_result"
    }
   ],
   "source": [
    "arr = np.zeros((4,5,6),dtype=float)\n",
    "arr"
   ]
  },
  {
   "cell_type": "code",
   "execution_count": 29,
   "id": "f9832c34-b701-47ac-abc7-81a15fb500da",
   "metadata": {},
   "outputs": [
    {
     "data": {
      "text/plain": [
       "array([1, 1, 1, 1])"
      ]
     },
     "execution_count": 29,
     "metadata": {},
     "output_type": "execute_result"
    }
   ],
   "source": [
    "#np.ones(shape tuple,dtype)\n",
    "arr= np.ones(4,dtype=int)\n",
    "arr"
   ]
  },
  {
   "cell_type": "code",
   "execution_count": 31,
   "id": "a8f99412-5c69-4b8d-a058-a2be470c9a45",
   "metadata": {},
   "outputs": [
    {
     "data": {
      "text/plain": [
       "array([1, 1, 1, 1])"
      ]
     },
     "execution_count": 31,
     "metadata": {},
     "output_type": "execute_result"
    }
   ],
   "source": [
    "arr= np.ones((4,),dtype=int)\n",
    "arr"
   ]
  },
  {
   "cell_type": "code",
   "execution_count": 33,
   "id": "a0121053-42bc-49e4-9fe2-43b852ab7434",
   "metadata": {},
   "outputs": [
    {
     "data": {
      "text/plain": [
       "array([[[1., 1., 1., 1., 1., 1.],\n",
       "        [1., 1., 1., 1., 1., 1.],\n",
       "        [1., 1., 1., 1., 1., 1.],\n",
       "        [1., 1., 1., 1., 1., 1.],\n",
       "        [1., 1., 1., 1., 1., 1.]],\n",
       "\n",
       "       [[1., 1., 1., 1., 1., 1.],\n",
       "        [1., 1., 1., 1., 1., 1.],\n",
       "        [1., 1., 1., 1., 1., 1.],\n",
       "        [1., 1., 1., 1., 1., 1.],\n",
       "        [1., 1., 1., 1., 1., 1.]],\n",
       "\n",
       "       [[1., 1., 1., 1., 1., 1.],\n",
       "        [1., 1., 1., 1., 1., 1.],\n",
       "        [1., 1., 1., 1., 1., 1.],\n",
       "        [1., 1., 1., 1., 1., 1.],\n",
       "        [1., 1., 1., 1., 1., 1.]],\n",
       "\n",
       "       [[1., 1., 1., 1., 1., 1.],\n",
       "        [1., 1., 1., 1., 1., 1.],\n",
       "        [1., 1., 1., 1., 1., 1.],\n",
       "        [1., 1., 1., 1., 1., 1.],\n",
       "        [1., 1., 1., 1., 1., 1.]]])"
      ]
     },
     "execution_count": 33,
     "metadata": {},
     "output_type": "execute_result"
    }
   ],
   "source": [
    "arr = np.ones((4,5,6),dtype=float)\n",
    "arr"
   ]
  },
  {
   "cell_type": "code",
   "execution_count": 35,
   "id": "c8e0bd62-dedb-4b41-911f-e60836bd7e8f",
   "metadata": {},
   "outputs": [
    {
     "data": {
      "text/plain": [
       "array([ 2.        ,  3.72727273,  5.45454545,  7.18181818,  8.90909091,\n",
       "       10.63636364, 12.36363636, 14.09090909, 15.81818182, 17.54545455,\n",
       "       19.27272727, 21.        , 22.72727273, 24.45454545, 26.18181818,\n",
       "       27.90909091, 29.63636364, 31.36363636, 33.09090909, 34.81818182,\n",
       "       36.54545455, 38.27272727, 40.        ])"
      ]
     },
     "execution_count": 35,
     "metadata": {},
     "output_type": "execute_result"
    }
   ],
   "source": [
    "arr = np.linspace(2,40,23)\n",
    "arr"
   ]
  },
  {
   "cell_type": "code",
   "execution_count": 100,
   "id": "b10a472c-caff-487e-b3c1-5f1af0160b59",
   "metadata": {},
   "outputs": [
    {
     "data": {
      "text/plain": [
       "(array([ 2.        ,  3.65217391,  5.30434783,  6.95652174,  8.60869565,\n",
       "        10.26086957, 11.91304348, 13.56521739, 15.2173913 , 16.86956522,\n",
       "        18.52173913, 20.17391304, 21.82608696, 23.47826087, 25.13043478,\n",
       "        26.7826087 , 28.43478261, 30.08695652, 31.73913043, 33.39130435,\n",
       "        35.04347826, 36.69565217, 38.34782609]),\n",
       " 1.6521739130434783)"
      ]
     },
     "execution_count": 100,
     "metadata": {},
     "output_type": "execute_result"
    }
   ],
   "source": [
    "#np.linspace(start,stop,count) start defaults to 0, count defaults to 50, stop is inclusive, endpoint=False makes stop exclusive\n",
    "arr = np.linspace(2,40,23,endpoint=False,retstep=True)\n",
    "arr"
   ]
  },
  {
   "cell_type": "code",
   "execution_count": 106,
   "id": "79fee112-c979-492a-9323-7de63eb2c128",
   "metadata": {},
   "outputs": [
    {
     "data": {
      "text/plain": [
       "(array([ 2.        ,  3.72727273,  5.45454545,  7.18181818,  8.90909091,\n",
       "        10.63636364, 12.36363636, 14.09090909, 15.81818182, 17.54545455,\n",
       "        19.27272727, 21.        , 22.72727273, 24.45454545, 26.18181818,\n",
       "        27.90909091, 29.63636364, 31.36363636, 33.09090909, 34.81818182,\n",
       "        36.54545455, 38.27272727, 40.        ]),\n",
       " 1.7272727272727273)"
      ]
     },
     "execution_count": 106,
     "metadata": {},
     "output_type": "execute_result"
    }
   ],
   "source": [
    "arr = np.linspace(2,40,23,retstep=True)\n",
    "arr"
   ]
  },
  {
   "cell_type": "code",
   "execution_count": 37,
   "id": "e2e1dd7c-d2c4-4fed-8b39-ac3f0aab7fc7",
   "metadata": {},
   "outputs": [
    {
     "data": {
      "text/plain": [
       "array([[1, 0, 0, 0, 0],\n",
       "       [0, 1, 0, 0, 0],\n",
       "       [0, 0, 1, 0, 0],\n",
       "       [0, 0, 0, 1, 0],\n",
       "       [0, 0, 0, 0, 1]])"
      ]
     },
     "execution_count": 37,
     "metadata": {},
     "output_type": "execute_result"
    }
   ],
   "source": [
    "#np.eye(size, offset)\n",
    "np.eye(5,dtype=int)"
   ]
  },
  {
   "cell_type": "code",
   "execution_count": 39,
   "id": "a36588a0-7467-4d31-85e0-68adbd326b26",
   "metadata": {},
   "outputs": [
    {
     "data": {
      "text/plain": [
       "array([[0, 1, 0, 0, 0],\n",
       "       [0, 0, 1, 0, 0],\n",
       "       [0, 0, 0, 1, 0],\n",
       "       [0, 0, 0, 0, 1],\n",
       "       [0, 0, 0, 0, 0]])"
      ]
     },
     "execution_count": 39,
     "metadata": {},
     "output_type": "execute_result"
    }
   ],
   "source": [
    "np.eye(5,k=1,dtype=int)"
   ]
  },
  {
   "cell_type": "code",
   "execution_count": 41,
   "id": "e4928917-9701-439f-9cf2-940a3f30a814",
   "metadata": {},
   "outputs": [
    {
     "data": {
      "text/plain": [
       "array([[0, 0, 0, 0, 0],\n",
       "       [1, 0, 0, 0, 0],\n",
       "       [0, 1, 0, 0, 0],\n",
       "       [0, 0, 1, 0, 0],\n",
       "       [0, 0, 0, 1, 0]])"
      ]
     },
     "execution_count": 41,
     "metadata": {},
     "output_type": "execute_result"
    }
   ],
   "source": [
    "np.eye(5,k=-1,dtype=int)"
   ]
  },
  {
   "cell_type": "markdown",
   "id": "b995760c-0171-459d-a403-89c76b7d32e8",
   "metadata": {},
   "source": [
    "### Operations on numpy arrays - Broadcasting \n",
    "- Broadcasting is a feature of numpy that allows operations on elements of array without needing a loop.\n",
    "- Stretching is a form of broadcasting where matrices of different dimensions can be operated on.\n",
    "  "
   ]
  },
  {
   "cell_type": "code",
   "execution_count": 108,
   "id": "1146d98b-f526-4f4e-93b0-b04c85126346",
   "metadata": {},
   "outputs": [],
   "source": [
    "arr = np.array([[1,2,3,4,5],[3,4,5,6,7]])"
   ]
  },
  {
   "cell_type": "code",
   "execution_count": 110,
   "id": "ef36248f-c74d-4904-a370-0103fb0a530a",
   "metadata": {},
   "outputs": [
    {
     "data": {
      "text/plain": [
       "array([[1, 2, 3, 4, 5],\n",
       "       [3, 4, 5, 6, 7]])"
      ]
     },
     "execution_count": 110,
     "metadata": {},
     "output_type": "execute_result"
    }
   ],
   "source": [
    "arr"
   ]
  },
  {
   "cell_type": "code",
   "execution_count": 112,
   "id": "f15c3bd3-3e06-4b40-aefa-488083c74885",
   "metadata": {},
   "outputs": [
    {
     "data": {
      "text/plain": [
       "array([[2, 3, 4, 5, 6],\n",
       "       [4, 5, 6, 7, 8]])"
      ]
     },
     "execution_count": 112,
     "metadata": {},
     "output_type": "execute_result"
    }
   ],
   "source": [
    "arr+1"
   ]
  },
  {
   "cell_type": "code",
   "execution_count": 114,
   "id": "0ee26442-0940-403d-9180-080bc55cc59d",
   "metadata": {},
   "outputs": [
    {
     "data": {
      "text/plain": [
       "array([[1, 2, 3, 4, 5],\n",
       "       [3, 4, 5, 6, 7]])"
      ]
     },
     "execution_count": 114,
     "metadata": {},
     "output_type": "execute_result"
    }
   ],
   "source": [
    "arr"
   ]
  },
  {
   "cell_type": "code",
   "execution_count": 116,
   "id": "21e7b40e-e815-41fa-96c3-882781ef6c5a",
   "metadata": {},
   "outputs": [
    {
     "data": {
      "text/plain": [
       "array([[ 2,  4,  6,  8, 10],\n",
       "       [ 6,  8, 10, 12, 14]])"
      ]
     },
     "execution_count": 116,
     "metadata": {},
     "output_type": "execute_result"
    }
   ],
   "source": [
    "arr*2"
   ]
  },
  {
   "cell_type": "code",
   "execution_count": 118,
   "id": "08c06511-5aa0-4913-abbf-ee29a281fb91",
   "metadata": {},
   "outputs": [
    {
     "data": {
      "text/plain": [
       "array([[ 1,  4,  9, 16, 25],\n",
       "       [ 9, 16, 25, 36, 49]])"
      ]
     },
     "execution_count": 118,
     "metadata": {},
     "output_type": "execute_result"
    }
   ],
   "source": [
    "arr*arr"
   ]
  },
  {
   "cell_type": "code",
   "execution_count": 120,
   "id": "28fd73b1-4605-4907-8fc4-03d14a9fab99",
   "metadata": {},
   "outputs": [
    {
     "data": {
      "text/plain": [
       "array([[1, 2, 3, 4, 5],\n",
       "       [3, 4, 5, 6, 7]])"
      ]
     },
     "execution_count": 120,
     "metadata": {},
     "output_type": "execute_result"
    }
   ],
   "source": [
    "# Stretching\n",
    "arr"
   ]
  },
  {
   "cell_type": "code",
   "execution_count": 122,
   "id": "7f6d55ab-4cd0-4872-a06f-14913ab997df",
   "metadata": {},
   "outputs": [],
   "source": [
    "arr2 = np.array([10,20,30,40,50])"
   ]
  },
  {
   "cell_type": "code",
   "execution_count": 124,
   "id": "100ed417-7735-4829-80c7-2361f620b096",
   "metadata": {},
   "outputs": [
    {
     "data": {
      "text/plain": [
       "array([[11, 22, 33, 44, 55],\n",
       "       [13, 24, 35, 46, 57]])"
      ]
     },
     "execution_count": 124,
     "metadata": {},
     "output_type": "execute_result"
    }
   ],
   "source": [
    "arr+arr2"
   ]
  },
  {
   "cell_type": "code",
   "execution_count": 126,
   "id": "e2500e62-5fce-4bae-86e3-ac9444250508",
   "metadata": {},
   "outputs": [],
   "source": [
    "arr3 = np.array([1,2,3,4,5,6,7])"
   ]
  },
  {
   "cell_type": "code",
   "execution_count": 128,
   "id": "0f97102d-97b3-4fee-bab3-411cfbc380c1",
   "metadata": {},
   "outputs": [
    {
     "ename": "ValueError",
     "evalue": "operands could not be broadcast together with shapes (2,5) (7,) ",
     "output_type": "error",
     "traceback": [
      "\u001b[1;31m---------------------------------------------------------------------------\u001b[0m",
      "\u001b[1;31mValueError\u001b[0m                                Traceback (most recent call last)",
      "Cell \u001b[1;32mIn[128], line 1\u001b[0m\n\u001b[1;32m----> 1\u001b[0m arr\u001b[38;5;241m+\u001b[39marr3\n",
      "\u001b[1;31mValueError\u001b[0m: operands could not be broadcast together with shapes (2,5) (7,) "
     ]
    }
   ],
   "source": [
    "arr+arr3"
   ]
  },
  {
   "cell_type": "code",
   "execution_count": 130,
   "id": "d49ac0a0-5ab4-42ee-a7d6-8eae6dca29b8",
   "metadata": {},
   "outputs": [
    {
     "data": {
      "text/plain": [
       "array([[  1,   8,  27,  64, 125],\n",
       "       [ 27,  64, 125, 216, 343]], dtype=int32)"
      ]
     },
     "execution_count": 130,
     "metadata": {},
     "output_type": "execute_result"
    }
   ],
   "source": [
    "arr**3"
   ]
  },
  {
   "cell_type": "markdown",
   "id": "e90e7f43-1e42-481f-ba27-9b568acb5948",
   "metadata": {},
   "source": [
    "### Random module\n",
    "#### Functions \n",
    "- rand: Generate a float array of chosen dimension of values between 0 and 1\n",
    "- randn: Generates a array of chosen dimension with values that belong a Standard normal distribution\n",
    "- randint: Generates a array of integers between chosen values"
   ]
  },
  {
   "cell_type": "code",
   "execution_count": 138,
   "id": "8d99b8d7-27c4-45ad-9c1a-d1c20b93e972",
   "metadata": {},
   "outputs": [
    {
     "data": {
      "text/plain": [
       "array([[[0.55630075, 0.1516603 , 0.84525522, 0.31388906],\n",
       "        [0.18656012, 0.61079671, 0.77958095, 0.34008911],\n",
       "        [0.9625355 , 0.61903829, 0.93222322, 0.30993792]],\n",
       "\n",
       "       [[0.97703698, 0.31400188, 0.31458282, 0.10586319],\n",
       "        [0.95324806, 0.88768283, 0.12376007, 0.30113853],\n",
       "        [0.5719329 , 0.42870986, 0.57564556, 0.61714889]]])"
      ]
     },
     "execution_count": 138,
     "metadata": {},
     "output_type": "execute_result"
    }
   ],
   "source": [
    "# rand\n",
    "#from numpy import random\n",
    "np.random.rand(2,3,4)   # 0 is inclusive, 1 is exclusive"
   ]
  },
  {
   "cell_type": "code",
   "execution_count": 144,
   "id": "282e40f1-3a5f-402f-bad8-10ff00c13bfc",
   "metadata": {},
   "outputs": [
    {
     "data": {
      "text/plain": [
       "array([[-0.58840078, -0.97594956,  1.1563218 ,  1.26774895, -1.621934  ],\n",
       "       [ 1.05388291,  1.64945655,  0.75459404, -1.01136059, -0.84133152]])"
      ]
     },
     "execution_count": 144,
     "metadata": {},
     "output_type": "execute_result"
    }
   ],
   "source": [
    "np.random.randn(2,5)"
   ]
  },
  {
   "cell_type": "code",
   "execution_count": 146,
   "id": "4b5d756c-a803-4be9-aa13-55157455918b",
   "metadata": {},
   "outputs": [
    {
     "data": {
      "text/plain": [
       "array([42, 12, 14, 13,  9, 40, 16, 42, 42, 44, 15, 43])"
      ]
     },
     "execution_count": 146,
     "metadata": {},
     "output_type": "execute_result"
    }
   ],
   "source": [
    "#np.random.randint(low,high,count)\n",
    "np.random.randint(2,50,12)"
   ]
  },
  {
   "cell_type": "code",
   "execution_count": 148,
   "id": "c77bad84-2901-43cf-8398-43a23a36eef1",
   "metadata": {},
   "outputs": [
    {
     "data": {
      "text/plain": [
       "array([5, 2, 4, 6, 6, 6, 4, 3, 6, 1, 3, 6, 5, 4, 1, 3, 6, 2, 5, 3, 1, 3,\n",
       "       6, 6, 6, 6, 1, 5, 1, 5, 4, 5, 2, 4, 4, 5, 2, 6, 4, 5])"
      ]
     },
     "execution_count": 148,
     "metadata": {},
     "output_type": "execute_result"
    }
   ],
   "source": [
    "np.random.randint(1,7,40)"
   ]
  },
  {
   "cell_type": "code",
   "execution_count": 150,
   "id": "c3be8261-93ea-4661-a0f0-cb51dbab860a",
   "metadata": {},
   "outputs": [
    {
     "data": {
      "text/plain": [
       "array([[3, 9, 3, 4, 3],\n",
       "       [2, 2, 4, 4, 7]])"
      ]
     },
     "execution_count": 150,
     "metadata": {},
     "output_type": "execute_result"
    }
   ],
   "source": [
    "np.random.randint(2,10,(2,5))"
   ]
  },
  {
   "cell_type": "markdown",
   "id": "0334c0e3-55a9-4b3e-9573-f89ea7dfb5a2",
   "metadata": {},
   "source": [
    "### Properties of numpy arrays\n",
    "-min, max, argmin, argmax, mean, median"
   ]
  },
  {
   "cell_type": "code",
   "execution_count": 152,
   "id": "a039af24-3d57-48b4-9491-2f46df799f72",
   "metadata": {},
   "outputs": [
    {
     "data": {
      "text/plain": [
       "array([[1, 2, 3, 4, 5],\n",
       "       [3, 4, 5, 6, 7]])"
      ]
     },
     "execution_count": 152,
     "metadata": {},
     "output_type": "execute_result"
    }
   ],
   "source": [
    "arr"
   ]
  },
  {
   "cell_type": "code",
   "execution_count": 154,
   "id": "e8922a4d-1c29-4fbe-bb75-6c6f9551f43a",
   "metadata": {},
   "outputs": [
    {
     "data": {
      "text/plain": [
       "1"
      ]
     },
     "execution_count": 154,
     "metadata": {},
     "output_type": "execute_result"
    }
   ],
   "source": [
    "#arr.min()\n",
    "np.min(arr)"
   ]
  },
  {
   "cell_type": "code",
   "execution_count": 156,
   "id": "5c8fa4bf-6c9d-4eeb-8fd2-8c58b0620902",
   "metadata": {},
   "outputs": [
    {
     "data": {
      "text/plain": [
       "7"
      ]
     },
     "execution_count": 156,
     "metadata": {},
     "output_type": "execute_result"
    }
   ],
   "source": [
    "#arr.max()\n",
    "np.max(arr)"
   ]
  },
  {
   "cell_type": "code",
   "execution_count": 158,
   "id": "97d6e34a-9386-48dd-9e5a-0d1864b621dd",
   "metadata": {},
   "outputs": [
    {
     "data": {
      "text/plain": [
       "0"
      ]
     },
     "execution_count": 158,
     "metadata": {},
     "output_type": "execute_result"
    }
   ],
   "source": [
    "#arr.argmin()\n",
    "np.argmin(arr)"
   ]
  },
  {
   "cell_type": "code",
   "execution_count": 160,
   "id": "af9e751f-3c52-4bd3-a6c1-fd0c9e7cf3ec",
   "metadata": {},
   "outputs": [
    {
     "data": {
      "text/plain": [
       "9"
      ]
     },
     "execution_count": 160,
     "metadata": {},
     "output_type": "execute_result"
    }
   ],
   "source": [
    "#arr.argmax()\n",
    "np.argmax(arr)"
   ]
  },
  {
   "cell_type": "code",
   "execution_count": 162,
   "id": "c08e54ee-92a8-49ea-ab04-813542b80b2c",
   "metadata": {},
   "outputs": [
    {
     "data": {
      "text/plain": [
       "4.0"
      ]
     },
     "execution_count": 162,
     "metadata": {},
     "output_type": "execute_result"
    }
   ],
   "source": [
    "#arr.mean()\n",
    "np.mean(arr)"
   ]
  },
  {
   "cell_type": "code",
   "execution_count": 164,
   "id": "155c6b7a-d941-44da-a817-1b6989b65a05",
   "metadata": {},
   "outputs": [
    {
     "data": {
      "text/plain": [
       "4.0"
      ]
     },
     "execution_count": 164,
     "metadata": {},
     "output_type": "execute_result"
    }
   ],
   "source": [
    "np.median(arr)\n"
   ]
  },
  {
   "cell_type": "code",
   "execution_count": 43,
   "id": "d9d159fc-3b78-470d-9d51-c46863fd8abe",
   "metadata": {},
   "outputs": [],
   "source": [
    "#np.where - lets you find the element meeting a condition\n",
    "arr = np.array([5,6,7,3,2,1,8,9,10])"
   ]
  },
  {
   "cell_type": "code",
   "execution_count": 45,
   "id": "4c811b7a-f0d3-460e-9e29-966d314b9943",
   "metadata": {},
   "outputs": [
    {
     "data": {
      "text/plain": [
       "(array([0, 1, 2, 6, 7, 8], dtype=int64),)"
      ]
     },
     "execution_count": 45,
     "metadata": {},
     "output_type": "execute_result"
    }
   ],
   "source": [
    "np.where(arr>4)"
   ]
  },
  {
   "cell_type": "markdown",
   "id": "0c7f9726-a890-4675-870c-c40eb41b713e",
   "metadata": {},
   "source": [
    "### Indexing a numpy array\n",
    "- arr[index]\n",
    "- arr[d0index][d1index]..."
   ]
  },
  {
   "cell_type": "code",
   "execution_count": 256,
   "id": "c45ac6c6-d5e9-4c17-af18-dd2bf5300020",
   "metadata": {},
   "outputs": [
    {
     "data": {
      "text/plain": [
       "30"
      ]
     },
     "execution_count": 256,
     "metadata": {},
     "output_type": "execute_result"
    }
   ],
   "source": [
    "len([1,2,3,4,5,6,7,8,9,10,1,2,3,4,5,6,7,8,9,10,1,4,6,8,9,0,2,3,5,11])"
   ]
  },
  {
   "cell_type": "code",
   "execution_count": 47,
   "id": "946dae1e-d284-430c-9c35-bcca74ba9815",
   "metadata": {},
   "outputs": [],
   "source": [
    "arr = np.array([1,2,3,4,5,6,7,8,9,10,1,2,3,4,5,6,7,8,9,10,1,4,6,8,9,0,2,3,5,11]).reshape(2,5,3)"
   ]
  },
  {
   "cell_type": "code",
   "execution_count": 49,
   "id": "84814c0a-a818-4ac1-9495-38d5d7f252d5",
   "metadata": {},
   "outputs": [
    {
     "data": {
      "text/plain": [
       "array([[[ 1,  2,  3],\n",
       "        [ 4,  5,  6],\n",
       "        [ 7,  8,  9],\n",
       "        [10,  1,  2],\n",
       "        [ 3,  4,  5]],\n",
       "\n",
       "       [[ 6,  7,  8],\n",
       "        [ 9, 10,  1],\n",
       "        [ 4,  6,  8],\n",
       "        [ 9,  0,  2],\n",
       "        [ 3,  5, 11]]])"
      ]
     },
     "execution_count": 49,
     "metadata": {},
     "output_type": "execute_result"
    }
   ],
   "source": [
    "arr"
   ]
  },
  {
   "cell_type": "code",
   "execution_count": 51,
   "id": "2e8e34fd-9a0c-4e99-a25a-fdaee54db6f5",
   "metadata": {},
   "outputs": [
    {
     "data": {
      "text/plain": [
       "6"
      ]
     },
     "execution_count": 51,
     "metadata": {},
     "output_type": "execute_result"
    }
   ],
   "source": [
    "arr[0,1,2]"
   ]
  },
  {
   "cell_type": "code",
   "execution_count": 176,
   "id": "37eb7fd9-5dc4-43c1-83f4-411698fd3516",
   "metadata": {},
   "outputs": [
    {
     "data": {
      "text/plain": [
       "5"
      ]
     },
     "execution_count": 176,
     "metadata": {},
     "output_type": "execute_result"
    }
   ],
   "source": [
    "arr[0][1][1]"
   ]
  },
  {
   "cell_type": "raw",
   "id": "8747bd53-a2cd-44c2-8f01-56798d285f6f",
   "metadata": {},
   "source": []
  },
  {
   "cell_type": "code",
   "execution_count": 264,
   "id": "d9aca323-ac39-4a44-b90a-d6c3a5735517",
   "metadata": {},
   "outputs": [
    {
     "data": {
      "text/plain": [
       "array([4])"
      ]
     },
     "execution_count": 264,
     "metadata": {},
     "output_type": "execute_result"
    }
   ],
   "source": [
    "arr[0][1][0:1]"
   ]
  },
  {
   "cell_type": "code",
   "execution_count": 63,
   "id": "fe2a37eb-9e1a-4733-a986-8e929b90421b",
   "metadata": {},
   "outputs": [
    {
     "data": {
      "text/plain": [
       "array([4, 5, 6])"
      ]
     },
     "execution_count": 63,
     "metadata": {},
     "output_type": "execute_result"
    }
   ],
   "source": [
    "arr[0][1]"
   ]
  },
  {
   "cell_type": "code",
   "execution_count": 254,
   "id": "f52d3100-6790-490d-be6c-5b74e6663ecd",
   "metadata": {},
   "outputs": [
    {
     "name": "stdout",
     "output_type": "stream",
     "text": [
      "[1 2]\n"
     ]
    }
   ],
   "source": [
    "print(arr[0][0:1][0,0:2])"
   ]
  },
  {
   "cell_type": "code",
   "execution_count": 61,
   "id": "204fb007-b786-4e36-b260-dbbd1f8a39ef",
   "metadata": {},
   "outputs": [
    {
     "data": {
      "text/plain": [
       "array([[1, 2, 3]])"
      ]
     },
     "execution_count": 61,
     "metadata": {},
     "output_type": "execute_result"
    }
   ],
   "source": [
    "arr[0][0:1]"
   ]
  },
  {
   "cell_type": "markdown",
   "id": "9f510b4c-8f20-48b3-b3d8-37f60bf1cf29",
   "metadata": {},
   "source": [
    "#### Understanding notation for slicing"
   ]
  },
  {
   "cell_type": "code",
   "execution_count": 268,
   "id": "c6965fde-6118-48b9-a2ee-4372d260d3d0",
   "metadata": {},
   "outputs": [
    {
     "name": "stdout",
     "output_type": "stream",
     "text": [
      "[4 5 6]\n"
     ]
    }
   ],
   "source": [
    "print(arr[0][1])"
   ]
  },
  {
   "cell_type": "code",
   "execution_count": 270,
   "id": "ed7d82a0-55b2-4dec-8fb9-bbb3f6efb806",
   "metadata": {},
   "outputs": [
    {
     "name": "stdout",
     "output_type": "stream",
     "text": [
      "[[4 5 6]]\n"
     ]
    }
   ],
   "source": [
    "print(arr[0][1:2])"
   ]
  },
  {
   "cell_type": "code",
   "execution_count": 272,
   "id": "7393b670-9e93-4c1a-88f2-8b8d3c334162",
   "metadata": {},
   "outputs": [
    {
     "name": "stdout",
     "output_type": "stream",
     "text": [
      "[[4 5 6]]\n"
     ]
    }
   ],
   "source": [
    "print(arr[0,1:2])"
   ]
  },
  {
   "cell_type": "code",
   "execution_count": 275,
   "id": "f37f5c0b-5f55-4835-9e28-0f2ab2ef62dd",
   "metadata": {},
   "outputs": [
    {
     "name": "stdout",
     "output_type": "stream",
     "text": [
      "5\n"
     ]
    }
   ],
   "source": [
    "print(arr[0][1][1])"
   ]
  },
  {
   "cell_type": "code",
   "execution_count": 277,
   "id": "3374ec3d-f76d-449f-a37e-0585e855f6a6",
   "metadata": {},
   "outputs": [
    {
     "name": "stdout",
     "output_type": "stream",
     "text": [
      "[]\n"
     ]
    }
   ],
   "source": [
    "print(arr[0][1:2][1:2])"
   ]
  },
  {
   "cell_type": "code",
   "execution_count": 279,
   "id": "977057d1-8254-47de-bcf4-8536edc61263",
   "metadata": {},
   "outputs": [
    {
     "name": "stdout",
     "output_type": "stream",
     "text": [
      "[[5]]\n"
     ]
    }
   ],
   "source": [
    "print(arr[0,1:2,1:2])"
   ]
  },
  {
   "cell_type": "code",
   "execution_count": null,
   "id": "2514c2f6-56b8-44ef-9729-9cba4ca16dd2",
   "metadata": {},
   "outputs": [],
   "source": []
  },
  {
   "cell_type": "code",
   "execution_count": 242,
   "id": "412ae283-de9c-4390-98f0-66b269f94a39",
   "metadata": {},
   "outputs": [
    {
     "data": {
      "text/plain": [
       "array([[1, 2, 3]])"
      ]
     },
     "execution_count": 242,
     "metadata": {},
     "output_type": "execute_result"
    }
   ],
   "source": [
    "arr[0][0:1][0:2]"
   ]
  },
  {
   "cell_type": "code",
   "execution_count": null,
   "id": "e50b2c63-ca88-4e99-ab5c-777eb65949b8",
   "metadata": {},
   "outputs": [],
   "source": []
  },
  {
   "cell_type": "code",
   "execution_count": 230,
   "id": "f7285883-60f6-4ef2-8b09-e4a94a8eb927",
   "metadata": {},
   "outputs": [
    {
     "data": {
      "text/plain": [
       "array([ 1,  2, 10])"
      ]
     },
     "execution_count": 230,
     "metadata": {},
     "output_type": "execute_result"
    }
   ],
   "source": [
    "arr"
   ]
  },
  {
   "cell_type": "markdown",
   "id": "1ec9c08c-a294-42cc-a1d9-4a2a31862c9f",
   "metadata": {},
   "source": [
    "### Copy vs View"
   ]
  },
  {
   "cell_type": "code",
   "execution_count": 196,
   "id": "f725beec-1110-471b-a30b-a48ba232905f",
   "metadata": {},
   "outputs": [],
   "source": [
    "arr = np.array([1,2,3])"
   ]
  },
  {
   "cell_type": "code",
   "execution_count": 198,
   "id": "ee212c00-539a-45ec-af24-1c4b44ae7b64",
   "metadata": {},
   "outputs": [
    {
     "data": {
      "text/plain": [
       "array([2, 3, 4])"
      ]
     },
     "execution_count": 198,
     "metadata": {},
     "output_type": "execute_result"
    }
   ],
   "source": [
    "arr+1"
   ]
  },
  {
   "cell_type": "code",
   "execution_count": 202,
   "id": "1137e868-46e5-4c4a-82a8-816b6259d761",
   "metadata": {},
   "outputs": [
    {
     "data": {
      "text/plain": [
       "array([1, 2, 3])"
      ]
     },
     "execution_count": 202,
     "metadata": {},
     "output_type": "execute_result"
    }
   ],
   "source": [
    "arr"
   ]
  },
  {
   "cell_type": "code",
   "execution_count": 204,
   "id": "e95bfcd1-94f6-4633-9afc-e78a6535b394",
   "metadata": {},
   "outputs": [],
   "source": [
    "arr1 = arr"
   ]
  },
  {
   "cell_type": "code",
   "execution_count": 206,
   "id": "d0bbee89-816b-4824-bd44-4feb7a25f548",
   "metadata": {},
   "outputs": [
    {
     "data": {
      "text/plain": [
       "array([1, 2, 3])"
      ]
     },
     "execution_count": 206,
     "metadata": {},
     "output_type": "execute_result"
    }
   ],
   "source": [
    "arr1"
   ]
  },
  {
   "cell_type": "code",
   "execution_count": null,
   "id": "6e026cc5-94a8-4345-983a-4fbf7d14bf8c",
   "metadata": {},
   "outputs": [],
   "source": [
    "arr"
   ]
  },
  {
   "cell_type": "code",
   "execution_count": 208,
   "id": "9eb2f9ad-1f10-4158-aa44-8b1027cf5ff8",
   "metadata": {},
   "outputs": [],
   "source": [
    "arr[2] = 10"
   ]
  },
  {
   "cell_type": "code",
   "execution_count": 210,
   "id": "cbe41e3d-1844-4c8a-8b30-38f62204b8fc",
   "metadata": {},
   "outputs": [
    {
     "data": {
      "text/plain": [
       "array([ 1,  2, 10])"
      ]
     },
     "execution_count": 210,
     "metadata": {},
     "output_type": "execute_result"
    }
   ],
   "source": [
    "arr"
   ]
  },
  {
   "cell_type": "code",
   "execution_count": 212,
   "id": "132a5d59-4808-4c68-8e13-e64d7beacde7",
   "metadata": {},
   "outputs": [
    {
     "data": {
      "text/plain": [
       "array([ 1,  2, 10])"
      ]
     },
     "execution_count": 212,
     "metadata": {},
     "output_type": "execute_result"
    }
   ],
   "source": [
    "arr1"
   ]
  },
  {
   "cell_type": "code",
   "execution_count": 214,
   "id": "a0d45143-d033-4149-bbe1-8c8ba3d0bca3",
   "metadata": {},
   "outputs": [],
   "source": [
    "arr1[1] = 20"
   ]
  },
  {
   "cell_type": "code",
   "execution_count": 216,
   "id": "db43738f-24f6-4a54-8130-5827891ea858",
   "metadata": {},
   "outputs": [
    {
     "data": {
      "text/plain": [
       "array([ 1, 20, 10])"
      ]
     },
     "execution_count": 216,
     "metadata": {},
     "output_type": "execute_result"
    }
   ],
   "source": [
    "arr1"
   ]
  },
  {
   "cell_type": "code",
   "execution_count": 218,
   "id": "69e737e5-ffa8-48e5-a0ca-135f453d9ecf",
   "metadata": {},
   "outputs": [
    {
     "data": {
      "text/plain": [
       "array([ 1, 20, 10])"
      ]
     },
     "execution_count": 218,
     "metadata": {},
     "output_type": "execute_result"
    }
   ],
   "source": [
    "arr"
   ]
  },
  {
   "cell_type": "code",
   "execution_count": 220,
   "id": "03141648-0963-4bbf-8915-a48bb0e573c0",
   "metadata": {},
   "outputs": [
    {
     "data": {
      "text/plain": [
       "array([1, 2, 3])"
      ]
     },
     "execution_count": 220,
     "metadata": {},
     "output_type": "execute_result"
    }
   ],
   "source": [
    "arr = np.array([1,2,3])\n",
    "arr"
   ]
  },
  {
   "cell_type": "code",
   "execution_count": 222,
   "id": "f27fa8c2-7d30-4947-84a0-318ea3a7f5c7",
   "metadata": {},
   "outputs": [
    {
     "data": {
      "text/plain": [
       "array([1, 2, 3])"
      ]
     },
     "execution_count": 222,
     "metadata": {},
     "output_type": "execute_result"
    }
   ],
   "source": [
    "arr2 = arr.copy()\n",
    "arr2"
   ]
  },
  {
   "cell_type": "code",
   "execution_count": 224,
   "id": "02f27440-0b5c-4439-ac91-ff906ede7081",
   "metadata": {},
   "outputs": [
    {
     "data": {
      "text/plain": [
       "array([ 1,  2, 10])"
      ]
     },
     "execution_count": 224,
     "metadata": {},
     "output_type": "execute_result"
    }
   ],
   "source": [
    "arr[2] = 10\n",
    "arr"
   ]
  },
  {
   "cell_type": "code",
   "execution_count": 226,
   "id": "cca44203-2210-4c1d-a9c5-0d5ec1ac8316",
   "metadata": {},
   "outputs": [
    {
     "data": {
      "text/plain": [
       "array([1, 2, 3])"
      ]
     },
     "execution_count": 226,
     "metadata": {},
     "output_type": "execute_result"
    }
   ],
   "source": [
    "arr2"
   ]
  },
  {
   "cell_type": "code",
   "execution_count": null,
   "id": "760dab64-15b1-48e2-a7d3-67a0a29a6883",
   "metadata": {},
   "outputs": [],
   "source": [
    "arr3 = arr.view()"
   ]
  },
  {
   "cell_type": "code",
   "execution_count": 228,
   "id": "5b70636f-c5af-462b-bbd8-9354b7ee1e21",
   "metadata": {},
   "outputs": [
    {
     "data": {
      "text/plain": [
       "[2, 3]"
      ]
     },
     "execution_count": 228,
     "metadata": {},
     "output_type": "execute_result"
    }
   ],
   "source": [
    "import statistics\n",
    "a = [1,2,3,4,5,1,2,3,4,5,1,2,3,4,5,2,3,2,3]\n",
    "statistics.multimode(a)"
   ]
  },
  {
   "cell_type": "code",
   "execution_count": null,
   "id": "18e8cb9c-ade4-443f-9471-63a6170b58e5",
   "metadata": {},
   "outputs": [],
   "source": []
  }
 ],
 "metadata": {
  "kernelspec": {
   "display_name": "Python 3 (ipykernel)",
   "language": "python",
   "name": "python3"
  },
  "language_info": {
   "codemirror_mode": {
    "name": "ipython",
    "version": 3
   },
   "file_extension": ".py",
   "mimetype": "text/x-python",
   "name": "python",
   "nbconvert_exporter": "python",
   "pygments_lexer": "ipython3",
   "version": "3.12.4"
  }
 },
 "nbformat": 4,
 "nbformat_minor": 5
}
